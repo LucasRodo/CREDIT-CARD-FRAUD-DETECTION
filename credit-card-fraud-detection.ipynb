{
 "cells": [
  {
   "cell_type": "markdown",
   "id": "d957f3df",
   "metadata": {
    "_cell_guid": "b1076dfc-b9ad-4769-8c92-a6c4dae69d19",
    "_uuid": "8f2839f25d086af736a60e9eeb907d3b93b6e0e5",
    "papermill": {
     "duration": 0.019737,
     "end_time": "2022-02-08T08:12:14.929982",
     "exception": false,
     "start_time": "2022-02-08T08:12:14.910245",
     "status": "completed"
    },
    "tags": []
   },
   "source": [
    "# IMPORT LIBRARIES & DATASET"
   ]
  },
  {
   "cell_type": "code",
   "execution_count": 1,
   "id": "ae67da54",
   "metadata": {
    "execution": {
     "iopub.execute_input": "2022-02-08T08:12:14.972231Z",
     "iopub.status.busy": "2022-02-08T08:12:14.970991Z",
     "iopub.status.idle": "2022-02-08T08:12:16.362335Z",
     "shell.execute_reply": "2022-02-08T08:12:16.361569Z",
     "shell.execute_reply.started": "2022-02-08T07:58:46.775688Z"
    },
    "papermill": {
     "duration": 1.413295,
     "end_time": "2022-02-08T08:12:16.362562",
     "exception": false,
     "start_time": "2022-02-08T08:12:14.949267",
     "status": "completed"
    },
    "tags": []
   },
   "outputs": [],
   "source": [
    "import pandas as pd\n",
    "import numpy as np\n",
    "from sklearn.preprocessing import StandardScaler\n",
    "from sklearn.model_selection import train_test_split\n",
    "from sklearn.tree import DecisionTreeClassifier\n",
    "from sklearn.ensemble import RandomForestClassifier\n",
    "from sklearn.metrics import confusion_matrix\n",
    "from sklearn.metrics import classification_report"
   ]
  },
  {
   "cell_type": "code",
   "execution_count": 2,
   "id": "dd5a9910",
   "metadata": {
    "execution": {
     "iopub.execute_input": "2022-02-08T08:12:16.405423Z",
     "iopub.status.busy": "2022-02-08T08:12:16.404710Z",
     "iopub.status.idle": "2022-02-08T08:12:24.500427Z",
     "shell.execute_reply": "2022-02-08T08:12:24.499875Z",
     "shell.execute_reply.started": "2022-02-08T07:51:20.864877Z"
    },
    "papermill": {
     "duration": 8.11952,
     "end_time": "2022-02-08T08:12:24.500626",
     "exception": false,
     "start_time": "2022-02-08T08:12:16.381106",
     "status": "completed"
    },
    "tags": []
   },
   "outputs": [
    {
     "data": {
      "text/html": [
       "<div>\n",
       "<style scoped>\n",
       "    .dataframe tbody tr th:only-of-type {\n",
       "        vertical-align: middle;\n",
       "    }\n",
       "\n",
       "    .dataframe tbody tr th {\n",
       "        vertical-align: top;\n",
       "    }\n",
       "\n",
       "    .dataframe thead th {\n",
       "        text-align: right;\n",
       "    }\n",
       "</style>\n",
       "<table border=\"1\" class=\"dataframe\">\n",
       "  <thead>\n",
       "    <tr style=\"text-align: right;\">\n",
       "      <th></th>\n",
       "      <th>Time</th>\n",
       "      <th>V1</th>\n",
       "      <th>V2</th>\n",
       "      <th>V3</th>\n",
       "      <th>V4</th>\n",
       "      <th>V5</th>\n",
       "      <th>V6</th>\n",
       "      <th>V7</th>\n",
       "      <th>V8</th>\n",
       "      <th>V9</th>\n",
       "      <th>...</th>\n",
       "      <th>V21</th>\n",
       "      <th>V22</th>\n",
       "      <th>V23</th>\n",
       "      <th>V24</th>\n",
       "      <th>V25</th>\n",
       "      <th>V26</th>\n",
       "      <th>V27</th>\n",
       "      <th>V28</th>\n",
       "      <th>Amount</th>\n",
       "      <th>Class</th>\n",
       "    </tr>\n",
       "  </thead>\n",
       "  <tbody>\n",
       "    <tr>\n",
       "      <th>0</th>\n",
       "      <td>0.0</td>\n",
       "      <td>-1.359807</td>\n",
       "      <td>-0.072781</td>\n",
       "      <td>2.536347</td>\n",
       "      <td>1.378155</td>\n",
       "      <td>-0.338321</td>\n",
       "      <td>0.462388</td>\n",
       "      <td>0.239599</td>\n",
       "      <td>0.098698</td>\n",
       "      <td>0.363787</td>\n",
       "      <td>...</td>\n",
       "      <td>-0.018307</td>\n",
       "      <td>0.277838</td>\n",
       "      <td>-0.110474</td>\n",
       "      <td>0.066928</td>\n",
       "      <td>0.128539</td>\n",
       "      <td>-0.189115</td>\n",
       "      <td>0.133558</td>\n",
       "      <td>-0.021053</td>\n",
       "      <td>149.62</td>\n",
       "      <td>0</td>\n",
       "    </tr>\n",
       "    <tr>\n",
       "      <th>1</th>\n",
       "      <td>0.0</td>\n",
       "      <td>1.191857</td>\n",
       "      <td>0.266151</td>\n",
       "      <td>0.166480</td>\n",
       "      <td>0.448154</td>\n",
       "      <td>0.060018</td>\n",
       "      <td>-0.082361</td>\n",
       "      <td>-0.078803</td>\n",
       "      <td>0.085102</td>\n",
       "      <td>-0.255425</td>\n",
       "      <td>...</td>\n",
       "      <td>-0.225775</td>\n",
       "      <td>-0.638672</td>\n",
       "      <td>0.101288</td>\n",
       "      <td>-0.339846</td>\n",
       "      <td>0.167170</td>\n",
       "      <td>0.125895</td>\n",
       "      <td>-0.008983</td>\n",
       "      <td>0.014724</td>\n",
       "      <td>2.69</td>\n",
       "      <td>0</td>\n",
       "    </tr>\n",
       "    <tr>\n",
       "      <th>2</th>\n",
       "      <td>1.0</td>\n",
       "      <td>-1.358354</td>\n",
       "      <td>-1.340163</td>\n",
       "      <td>1.773209</td>\n",
       "      <td>0.379780</td>\n",
       "      <td>-0.503198</td>\n",
       "      <td>1.800499</td>\n",
       "      <td>0.791461</td>\n",
       "      <td>0.247676</td>\n",
       "      <td>-1.514654</td>\n",
       "      <td>...</td>\n",
       "      <td>0.247998</td>\n",
       "      <td>0.771679</td>\n",
       "      <td>0.909412</td>\n",
       "      <td>-0.689281</td>\n",
       "      <td>-0.327642</td>\n",
       "      <td>-0.139097</td>\n",
       "      <td>-0.055353</td>\n",
       "      <td>-0.059752</td>\n",
       "      <td>378.66</td>\n",
       "      <td>0</td>\n",
       "    </tr>\n",
       "    <tr>\n",
       "      <th>3</th>\n",
       "      <td>1.0</td>\n",
       "      <td>-0.966272</td>\n",
       "      <td>-0.185226</td>\n",
       "      <td>1.792993</td>\n",
       "      <td>-0.863291</td>\n",
       "      <td>-0.010309</td>\n",
       "      <td>1.247203</td>\n",
       "      <td>0.237609</td>\n",
       "      <td>0.377436</td>\n",
       "      <td>-1.387024</td>\n",
       "      <td>...</td>\n",
       "      <td>-0.108300</td>\n",
       "      <td>0.005274</td>\n",
       "      <td>-0.190321</td>\n",
       "      <td>-1.175575</td>\n",
       "      <td>0.647376</td>\n",
       "      <td>-0.221929</td>\n",
       "      <td>0.062723</td>\n",
       "      <td>0.061458</td>\n",
       "      <td>123.50</td>\n",
       "      <td>0</td>\n",
       "    </tr>\n",
       "    <tr>\n",
       "      <th>4</th>\n",
       "      <td>2.0</td>\n",
       "      <td>-1.158233</td>\n",
       "      <td>0.877737</td>\n",
       "      <td>1.548718</td>\n",
       "      <td>0.403034</td>\n",
       "      <td>-0.407193</td>\n",
       "      <td>0.095921</td>\n",
       "      <td>0.592941</td>\n",
       "      <td>-0.270533</td>\n",
       "      <td>0.817739</td>\n",
       "      <td>...</td>\n",
       "      <td>-0.009431</td>\n",
       "      <td>0.798278</td>\n",
       "      <td>-0.137458</td>\n",
       "      <td>0.141267</td>\n",
       "      <td>-0.206010</td>\n",
       "      <td>0.502292</td>\n",
       "      <td>0.219422</td>\n",
       "      <td>0.215153</td>\n",
       "      <td>69.99</td>\n",
       "      <td>0</td>\n",
       "    </tr>\n",
       "  </tbody>\n",
       "</table>\n",
       "<p>5 rows × 31 columns</p>\n",
       "</div>"
      ],
      "text/plain": [
       "   Time        V1        V2        V3        V4        V5        V6        V7  \\\n",
       "0   0.0 -1.359807 -0.072781  2.536347  1.378155 -0.338321  0.462388  0.239599   \n",
       "1   0.0  1.191857  0.266151  0.166480  0.448154  0.060018 -0.082361 -0.078803   \n",
       "2   1.0 -1.358354 -1.340163  1.773209  0.379780 -0.503198  1.800499  0.791461   \n",
       "3   1.0 -0.966272 -0.185226  1.792993 -0.863291 -0.010309  1.247203  0.237609   \n",
       "4   2.0 -1.158233  0.877737  1.548718  0.403034 -0.407193  0.095921  0.592941   \n",
       "\n",
       "         V8        V9  ...       V21       V22       V23       V24       V25  \\\n",
       "0  0.098698  0.363787  ... -0.018307  0.277838 -0.110474  0.066928  0.128539   \n",
       "1  0.085102 -0.255425  ... -0.225775 -0.638672  0.101288 -0.339846  0.167170   \n",
       "2  0.247676 -1.514654  ...  0.247998  0.771679  0.909412 -0.689281 -0.327642   \n",
       "3  0.377436 -1.387024  ... -0.108300  0.005274 -0.190321 -1.175575  0.647376   \n",
       "4 -0.270533  0.817739  ... -0.009431  0.798278 -0.137458  0.141267 -0.206010   \n",
       "\n",
       "        V26       V27       V28  Amount  Class  \n",
       "0 -0.189115  0.133558 -0.021053  149.62      0  \n",
       "1  0.125895 -0.008983  0.014724    2.69      0  \n",
       "2 -0.139097 -0.055353 -0.059752  378.66      0  \n",
       "3 -0.221929  0.062723  0.061458  123.50      0  \n",
       "4  0.502292  0.219422  0.215153   69.99      0  \n",
       "\n",
       "[5 rows x 31 columns]"
      ]
     },
     "execution_count": 2,
     "metadata": {},
     "output_type": "execute_result"
    }
   ],
   "source": [
    "\n",
    "fraud_df = pd.read_csv(\"../input/creditcardfraud/creditcard.csv\")\n",
    "fraud_df.head()"
   ]
  },
  {
   "cell_type": "markdown",
   "id": "1771d58f",
   "metadata": {
    "papermill": {
     "duration": 0.019543,
     "end_time": "2022-02-08T08:12:24.540676",
     "exception": false,
     "start_time": "2022-02-08T08:12:24.521133",
     "status": "completed"
    },
    "tags": []
   },
   "source": [
    "# DATA ANALYSIS"
   ]
  },
  {
   "cell_type": "code",
   "execution_count": 3,
   "id": "74117851",
   "metadata": {
    "execution": {
     "iopub.execute_input": "2022-02-08T08:12:24.585357Z",
     "iopub.status.busy": "2022-02-08T08:12:24.584711Z",
     "iopub.status.idle": "2022-02-08T08:12:24.587966Z",
     "shell.execute_reply": "2022-02-08T08:12:24.588681Z",
     "shell.execute_reply.started": "2022-02-08T07:51:25.008109Z"
    },
    "papermill": {
     "duration": 0.028323,
     "end_time": "2022-02-08T08:12:24.588898",
     "exception": false,
     "start_time": "2022-02-08T08:12:24.560575",
     "status": "completed"
    },
    "tags": []
   },
   "outputs": [
    {
     "name": "stdout",
     "output_type": "stream",
     "text": [
      "Dataset Shape :\n",
      "(284807, 31)\n"
     ]
    }
   ],
   "source": [
    "#What is the size of the data set?\n",
    "print(f\"Dataset Shape :\\n{fraud_df.shape}\")"
   ]
  },
  {
   "cell_type": "code",
   "execution_count": 4,
   "id": "e09f3823",
   "metadata": {
    "execution": {
     "iopub.execute_input": "2022-02-08T08:12:24.633947Z",
     "iopub.status.busy": "2022-02-08T08:12:24.633134Z",
     "iopub.status.idle": "2022-02-08T08:12:24.637021Z",
     "shell.execute_reply": "2022-02-08T08:12:24.636552Z",
     "shell.execute_reply.started": "2022-02-08T07:51:25.016572Z"
    },
    "papermill": {
     "duration": 0.028263,
     "end_time": "2022-02-08T08:12:24.637155",
     "exception": false,
     "start_time": "2022-02-08T08:12:24.608892",
     "status": "completed"
    },
    "tags": []
   },
   "outputs": [
    {
     "name": "stdout",
     "output_type": "stream",
     "text": [
      "Columns or Feature names : \n",
      " Index(['Time', 'V1', 'V2', 'V3', 'V4', 'V5', 'V6', 'V7', 'V8', 'V9', 'V10',\n",
      "       'V11', 'V12', 'V13', 'V14', 'V15', 'V16', 'V17', 'V18', 'V19', 'V20',\n",
      "       'V21', 'V22', 'V23', 'V24', 'V25', 'V26', 'V27', 'V28', 'Amount',\n",
      "       'Class'],\n",
      "      dtype='object')\n"
     ]
    }
   ],
   "source": [
    "#How many features does the data set have?\n",
    "print(f\"Columns or Feature names : \\n {fraud_df.columns}\")"
   ]
  },
  {
   "cell_type": "code",
   "execution_count": 5,
   "id": "59204e0a",
   "metadata": {
    "execution": {
     "iopub.execute_input": "2022-02-08T08:12:24.679298Z",
     "iopub.status.busy": "2022-02-08T08:12:24.678368Z",
     "iopub.status.idle": "2022-02-08T08:12:24.694537Z",
     "shell.execute_reply": "2022-02-08T08:12:24.694009Z",
     "shell.execute_reply.started": "2022-02-08T07:51:25.033688Z"
    },
    "papermill": {
     "duration": 0.038166,
     "end_time": "2022-02-08T08:12:24.694683",
     "exception": false,
     "start_time": "2022-02-08T08:12:24.656517",
     "status": "completed"
    },
    "tags": []
   },
   "outputs": [
    {
     "name": "stdout",
     "output_type": "stream",
     "text": [
      "Unique values of target variable : \n",
      " [0 1]\n"
     ]
    }
   ],
   "source": [
    "#  What are the target values?\n",
    "print(f\"Unique values of target variable : \\n {fraud_df['Class'].unique()}\")"
   ]
  },
  {
   "cell_type": "code",
   "execution_count": 6,
   "id": "9a363f4b",
   "metadata": {
    "execution": {
     "iopub.execute_input": "2022-02-08T08:12:24.737910Z",
     "iopub.status.busy": "2022-02-08T08:12:24.737257Z",
     "iopub.status.idle": "2022-02-08T08:12:24.747716Z",
     "shell.execute_reply": "2022-02-08T08:12:24.748662Z",
     "shell.execute_reply.started": "2022-02-08T07:51:25.050900Z"
    },
    "papermill": {
     "duration": 0.034468,
     "end_time": "2022-02-08T08:12:24.748934",
     "exception": false,
     "start_time": "2022-02-08T08:12:24.714466",
     "status": "completed"
    },
    "tags": []
   },
   "outputs": [
    {
     "name": "stdout",
     "output_type": "stream",
     "text": [
      "Number of samples under each target value : \n",
      " 0    284315\n",
      "1       492\n",
      "Name: Class, dtype: int64\n"
     ]
    }
   ],
   "source": [
    "# How many samples below each target value?\n",
    "print(f\"Number of samples under each target value : \\n {fraud_df['Class'].value_counts()}\")"
   ]
  },
  {
   "cell_type": "markdown",
   "id": "dff96fc3",
   "metadata": {
    "papermill": {
     "duration": 0.021087,
     "end_time": "2022-02-08T08:12:24.791748",
     "exception": false,
     "start_time": "2022-02-08T08:12:24.770661",
     "status": "completed"
    },
    "tags": []
   },
   "source": [
    "# DATA Preprocessing"
   ]
  },
  {
   "cell_type": "code",
   "execution_count": 7,
   "id": "9f422375",
   "metadata": {
    "execution": {
     "iopub.execute_input": "2022-02-08T08:12:24.872255Z",
     "iopub.status.busy": "2022-02-08T08:12:24.870892Z",
     "iopub.status.idle": "2022-02-08T08:12:24.877594Z",
     "shell.execute_reply": "2022-02-08T08:12:24.878142Z",
     "shell.execute_reply.started": "2022-02-08T07:51:25.062417Z"
    },
    "papermill": {
     "duration": 0.066005,
     "end_time": "2022-02-08T08:12:24.878345",
     "exception": false,
     "start_time": "2022-02-08T08:12:24.812340",
     "status": "completed"
    },
    "tags": []
   },
   "outputs": [
    {
     "name": "stdout",
     "output_type": "stream",
     "text": [
      "list of feature names after removing Time column : \n",
      "Index(['V1', 'V2', 'V3', 'V4', 'V5', 'V6', 'V7', 'V8', 'V9', 'V10', 'V11',\n",
      "       'V12', 'V13', 'V14', 'V15', 'V16', 'V17', 'V18', 'V19', 'V20', 'V21',\n",
      "       'V22', 'V23', 'V24', 'V25', 'V26', 'V27', 'V28', 'Amount', 'Class'],\n",
      "      dtype='object')\n"
     ]
    }
   ],
   "source": [
    "# remove irrelevant features\n",
    "fraud_df = fraud_df.drop(['Time'], axis=1)\n",
    "print(f\"list of feature names after removing Time column : \\n{fraud_df.columns}\")"
   ]
  },
  {
   "cell_type": "code",
   "execution_count": 8,
   "id": "9709a177",
   "metadata": {
    "execution": {
     "iopub.execute_input": "2022-02-08T08:12:24.927125Z",
     "iopub.status.busy": "2022-02-08T08:12:24.926387Z",
     "iopub.status.idle": "2022-02-08T08:12:24.961525Z",
     "shell.execute_reply": "2022-02-08T08:12:24.962161Z",
     "shell.execute_reply.started": "2022-02-08T07:51:25.104866Z"
    },
    "papermill": {
     "duration": 0.062765,
     "end_time": "2022-02-08T08:12:24.962370",
     "exception": false,
     "start_time": "2022-02-08T08:12:24.899605",
     "status": "completed"
    },
    "tags": []
   },
   "outputs": [
    {
     "name": "stdout",
     "output_type": "stream",
     "text": [
      "<class 'pandas.core.frame.DataFrame'>\n",
      "RangeIndex: 284807 entries, 0 to 284806\n",
      "Data columns (total 30 columns):\n",
      " #   Column  Non-Null Count   Dtype  \n",
      "---  ------  --------------   -----  \n",
      " 0   V1      284807 non-null  float64\n",
      " 1   V2      284807 non-null  float64\n",
      " 2   V3      284807 non-null  float64\n",
      " 3   V4      284807 non-null  float64\n",
      " 4   V5      284807 non-null  float64\n",
      " 5   V6      284807 non-null  float64\n",
      " 6   V7      284807 non-null  float64\n",
      " 7   V8      284807 non-null  float64\n",
      " 8   V9      284807 non-null  float64\n",
      " 9   V10     284807 non-null  float64\n",
      " 10  V11     284807 non-null  float64\n",
      " 11  V12     284807 non-null  float64\n",
      " 12  V13     284807 non-null  float64\n",
      " 13  V14     284807 non-null  float64\n",
      " 14  V15     284807 non-null  float64\n",
      " 15  V16     284807 non-null  float64\n",
      " 16  V17     284807 non-null  float64\n",
      " 17  V18     284807 non-null  float64\n",
      " 18  V19     284807 non-null  float64\n",
      " 19  V20     284807 non-null  float64\n",
      " 20  V21     284807 non-null  float64\n",
      " 21  V22     284807 non-null  float64\n",
      " 22  V23     284807 non-null  float64\n",
      " 23  V24     284807 non-null  float64\n",
      " 24  V25     284807 non-null  float64\n",
      " 25  V26     284807 non-null  float64\n",
      " 26  V27     284807 non-null  float64\n",
      " 27  V28     284807 non-null  float64\n",
      " 28  Amount  284807 non-null  float64\n",
      " 29  Class   284807 non-null  int64  \n",
      "dtypes: float64(29), int64(1)\n",
      "memory usage: 65.2 MB\n"
     ]
    }
   ],
   "source": [
    "fraud_df.info()"
   ]
  },
  {
   "cell_type": "markdown",
   "id": "f726c13c",
   "metadata": {
    "papermill": {
     "duration": 0.02086,
     "end_time": "2022-02-08T08:12:25.004631",
     "exception": false,
     "start_time": "2022-02-08T08:12:24.983771",
     "status": "completed"
    },
    "tags": []
   },
   "source": [
    "# Data transformation"
   ]
  },
  {
   "cell_type": "code",
   "execution_count": 9,
   "id": "dc1aff2a",
   "metadata": {
    "execution": {
     "iopub.execute_input": "2022-02-08T08:12:25.050482Z",
     "iopub.status.busy": "2022-02-08T08:12:25.049807Z",
     "iopub.status.idle": "2022-02-08T08:12:25.055525Z",
     "shell.execute_reply": "2022-02-08T08:12:25.056157Z",
     "shell.execute_reply.started": "2022-02-08T07:51:25.140738Z"
    },
    "papermill": {
     "duration": 0.030392,
     "end_time": "2022-02-08T08:12:25.056358",
     "exception": false,
     "start_time": "2022-02-08T08:12:25.025966",
     "status": "completed"
    },
    "tags": []
   },
   "outputs": [
    {
     "name": "stdout",
     "output_type": "stream",
     "text": [
      "few values of Amount column: \n",
      " 0    149.62\n",
      "1      2.69\n",
      "2    378.66\n",
      "3    123.50\n",
      "Name: Amount, dtype: float64\n"
     ]
    }
   ],
   "source": [
    "print(f\"few values of Amount column: \\n {fraud_df['Amount'][0:4]}\")"
   ]
  },
  {
   "cell_type": "code",
   "execution_count": 10,
   "id": "bd138094",
   "metadata": {
    "execution": {
     "iopub.execute_input": "2022-02-08T08:12:25.102903Z",
     "iopub.status.busy": "2022-02-08T08:12:25.102180Z",
     "iopub.status.idle": "2022-02-08T08:12:25.280610Z",
     "shell.execute_reply": "2022-02-08T08:12:25.279622Z",
     "shell.execute_reply.started": "2022-02-08T07:51:25.151257Z"
    },
    "papermill": {
     "duration": 0.202937,
     "end_time": "2022-02-08T08:12:25.280849",
     "exception": false,
     "start_time": "2022-02-08T08:12:25.077912",
     "status": "completed"
    },
    "tags": []
   },
   "outputs": [
    {
     "name": "stdout",
     "output_type": "stream",
     "text": [
      "Amount column after applying StandardScaler: \n",
      " 0    0.244964\n",
      "1   -0.342475\n",
      "2    1.160686\n",
      "3    0.140534\n",
      "Name: norm_amount, dtype: float64\n"
     ]
    }
   ],
   "source": [
    "#We will change the values to a smaller range. \n",
    "fraud_df['norm_amount'] = StandardScaler().fit_transform(\n",
    "fraud_df['Amount'].values.reshape(-1,1))\n",
    "fraud_df = fraud_df.drop(['Amount'], axis=1)\n",
    "print(f\"Amount column after applying StandardScaler: \\n {fraud_df['norm_amount'][0:4]}\")"
   ]
  },
  {
   "cell_type": "code",
   "execution_count": 11,
   "id": "7b19e6d0",
   "metadata": {
    "execution": {
     "iopub.execute_input": "2022-02-08T08:12:25.391568Z",
     "iopub.status.busy": "2022-02-08T08:12:25.356326Z",
     "iopub.status.idle": "2022-02-08T08:12:25.402363Z",
     "shell.execute_reply": "2022-02-08T08:12:25.403151Z",
     "shell.execute_reply.started": "2022-02-08T07:51:25.253657Z"
    },
    "papermill": {
     "duration": 0.086758,
     "end_time": "2022-02-08T08:12:25.403425",
     "exception": false,
     "start_time": "2022-02-08T08:12:25.316667",
     "status": "completed"
    },
    "tags": []
   },
   "outputs": [],
   "source": [
    "#Features and target creations\n",
    "X = fraud_df.drop(['Class'], axis=1)\n",
    "y = fraud_df[['Class']]"
   ]
  },
  {
   "cell_type": "code",
   "execution_count": 12,
   "id": "f0cde7b1",
   "metadata": {
    "execution": {
     "iopub.execute_input": "2022-02-08T08:12:25.460358Z",
     "iopub.status.busy": "2022-02-08T08:12:25.459404Z",
     "iopub.status.idle": "2022-02-08T08:12:25.592767Z",
     "shell.execute_reply": "2022-02-08T08:12:25.593560Z",
     "shell.execute_reply.started": "2022-02-08T07:51:25.286010Z"
    },
    "papermill": {
     "duration": 0.162673,
     "end_time": "2022-02-08T08:12:25.593832",
     "exception": false,
     "start_time": "2022-02-08T08:12:25.431159",
     "status": "completed"
    },
    "tags": []
   },
   "outputs": [
    {
     "name": "stdout",
     "output_type": "stream",
     "text": [
      "(199364, 29)\n",
      "(85443, 29)\n",
      "(199364, 1)\n",
      "(85443, 1)\n"
     ]
    }
   ],
   "source": [
    "#splitting dataset to train & test dataset\n",
    "X_train, X_test, y_train, y_test = train_test_split(X, y, test_size=0.3, random_state=0)\n",
    "print(X_train.shape)\n",
    "print(X_test.shape)\n",
    "print(y_train.shape)\n",
    "print(y_test.shape)"
   ]
  },
  {
   "cell_type": "code",
   "execution_count": 13,
   "id": "d3ef7287",
   "metadata": {
    "execution": {
     "iopub.execute_input": "2022-02-08T08:12:25.676695Z",
     "iopub.status.busy": "2022-02-08T08:12:25.675916Z",
     "iopub.status.idle": "2022-02-08T08:12:42.012084Z",
     "shell.execute_reply": "2022-02-08T08:12:42.012821Z",
     "shell.execute_reply.started": "2022-02-08T07:51:25.389120Z"
    },
    "papermill": {
     "duration": 16.381208,
     "end_time": "2022-02-08T08:12:42.013105",
     "exception": false,
     "start_time": "2022-02-08T08:12:25.631897",
     "status": "completed"
    },
    "tags": []
   },
   "outputs": [
    {
     "name": "stdout",
     "output_type": "stream",
     "text": [
      "Model training starts........\n",
      "Model training completed\n",
      "Accuracy of model on test dataset :- 0.9992158515033414\n",
      "Confusion Matrix :- \n",
      " [[85266    30]\n",
      " [   37   110]]\n",
      "Classification Report :- \n",
      "               precision    recall  f1-score   support\n",
      "\n",
      "           0       1.00      1.00      1.00     85296\n",
      "           1       0.79      0.75      0.77       147\n",
      "\n",
      "    accuracy                           1.00     85443\n",
      "   macro avg       0.89      0.87      0.88     85443\n",
      "weighted avg       1.00      1.00      1.00     85443\n",
      "\n"
     ]
    }
   ],
   "source": [
    "#Building decision tree\n",
    "\n",
    "def decision_tree_classification(X_train, y_train, X_test, y_test):\n",
    "    dt_classifier = DecisionTreeClassifier()\n",
    "    print(\"Model training starts........\")\n",
    "    dt_classifier.fit(X_train, y_train.values.ravel())\n",
    "    print(\"Model training completed\")\n",
    "    acc_score = dt_classifier.score(X_test, y_test)\n",
    "    print(f'Accuracy of model on test dataset :- {acc_score}')\n",
    "    y_pred = dt_classifier.predict(X_test)\n",
    "    #confusion matrix\n",
    "    print(f\"Confusion Matrix :- \\n {confusion_matrix(y_test, y_pred)}\")\n",
    "    print(f\"Classification Report :- \\n {classification_report(y_test, y_pred)}\")\n",
    "    \n",
    "decision_tree_classification(X_train, y_train, X_test, y_test)"
   ]
  },
  {
   "cell_type": "code",
   "execution_count": 14,
   "id": "0f367075",
   "metadata": {
    "execution": {
     "iopub.execute_input": "2022-02-08T08:12:42.071751Z",
     "iopub.status.busy": "2022-02-08T08:12:42.071023Z",
     "iopub.status.idle": "2022-02-08T08:12:58.170759Z",
     "shell.execute_reply": "2022-02-08T08:12:58.170070Z",
     "shell.execute_reply.started": "2022-02-08T07:51:40.753228Z"
    },
    "papermill": {
     "duration": 16.132022,
     "end_time": "2022-02-08T08:12:58.170958",
     "exception": false,
     "start_time": "2022-02-08T08:12:42.038936",
     "status": "completed"
    },
    "tags": []
   },
   "outputs": [
    {
     "name": "stdout",
     "output_type": "stream",
     "text": [
      "Model training starts........\n",
      "Model training completed\n",
      "Accuracy of model on test dataset :- 0.9992275552122467\n",
      "Confusion Matrix :- \n",
      " [[85268    28]\n",
      " [   38   109]]\n",
      "Classification Report :- \n",
      "               precision    recall  f1-score   support\n",
      "\n",
      "           0       1.00      1.00      1.00     85296\n",
      "           1       0.80      0.74      0.77       147\n",
      "\n",
      "    accuracy                           1.00     85443\n",
      "   macro avg       0.90      0.87      0.88     85443\n",
      "weighted avg       1.00      1.00      1.00     85443\n",
      "\n"
     ]
    }
   ],
   "source": [
    "#Model with randomforest\n",
    "\n",
    "def random_forest_classifier(X_train, y_train, X_test, y_test):\n",
    "    rt_classifier = RandomForestClassifier(n_estimators=50)\n",
    "    print(\"Model training starts........\")\n",
    "    rt_classifier.fit(X_train, y_train.values.ravel())\n",
    "    acc_score = rt_classifier.score(X_test, y_test)\n",
    "    print(f'Accuracy of model on test dataset :- {acc_score}')\n",
    "    y_pred = rt_classifier.predict(X_test)\n",
    "    #Confusion Matrix\n",
    "    print(f\"Confusion Matrix :- \\n {confusion_matrix(y_test, y_pred)}\")\n",
    "    print(f\"Classification Report :- \\n {classification_report(y_test, y_pred)}\")\n",
    "    \n",
    "decision_tree_classification(X_train, y_train, X_test, y_test)"
   ]
  },
  {
   "cell_type": "code",
   "execution_count": 15,
   "id": "453d13ed",
   "metadata": {
    "execution": {
     "iopub.execute_input": "2022-02-08T08:12:58.224197Z",
     "iopub.status.busy": "2022-02-08T08:12:58.223212Z",
     "iopub.status.idle": "2022-02-08T08:12:58.233543Z",
     "shell.execute_reply": "2022-02-08T08:12:58.234019Z",
     "shell.execute_reply.started": "2022-02-08T07:52:51.051413Z"
    },
    "papermill": {
     "duration": 0.038699,
     "end_time": "2022-02-08T08:12:58.234232",
     "exception": false,
     "start_time": "2022-02-08T08:12:58.195533",
     "status": "completed"
    },
    "tags": []
   },
   "outputs": [
    {
     "name": "stdout",
     "output_type": "stream",
     "text": [
      "Number of samples for each class :- \n",
      " 0    284315\n",
      "1       492\n",
      "Name: Class, dtype: int64\n",
      "Non Fraudulent Numbers :- 284315\n",
      "Fraudulent Numbers :- 492\n"
     ]
    }
   ],
   "source": [
    "#Target class distribution\n",
    "\n",
    "class_val = fraud_df['Class'].value_counts()\n",
    "print(f\"Number of samples for each class :- \\n {class_val}\")\n",
    "non_fraud = class_val[0]\n",
    "fraud = class_val[1]\n",
    "print(f\"Non Fraudulent Numbers :- {non_fraud}\")\n",
    "print(f\"Fraudulent Numbers :- {fraud}\")"
   ]
  },
  {
   "cell_type": "code",
   "execution_count": 16,
   "id": "88e22029",
   "metadata": {
    "execution": {
     "iopub.execute_input": "2022-02-08T08:12:58.288883Z",
     "iopub.status.busy": "2022-02-08T08:12:58.287905Z",
     "iopub.status.idle": "2022-02-08T08:12:58.362666Z",
     "shell.execute_reply": "2022-02-08T08:12:58.363176Z",
     "shell.execute_reply.started": "2022-02-08T07:58:51.916544Z"
    },
    "papermill": {
     "duration": 0.103427,
     "end_time": "2022-02-08T08:12:58.363532",
     "exception": false,
     "start_time": "2022-02-08T08:12:58.260105",
     "status": "completed"
    },
    "tags": []
   },
   "outputs": [],
   "source": [
    "#take indexes of non fraudulent\n",
    "nonfraud_indexies = fraud_df[fraud_df.Class == 0].index\n",
    "fraud_indices = np.array(fraud_df[fraud_df['Class'] == 1].index)\n",
    "#take random samples from non fraudulent that are equal to fraudulent samples\n",
    "random_normal_indexies = np.random.choice(nonfraud_indexies, fraud, replace=False)\n",
    "random_normal_indexies = np.array(random_normal_indexies)"
   ]
  },
  {
   "cell_type": "code",
   "execution_count": 17,
   "id": "35295a20",
   "metadata": {
    "execution": {
     "iopub.execute_input": "2022-02-08T08:12:58.416395Z",
     "iopub.status.busy": "2022-02-08T08:12:58.415403Z",
     "iopub.status.idle": "2022-02-08T08:12:58.426964Z",
     "shell.execute_reply": "2022-02-08T08:12:58.427499Z",
     "shell.execute_reply.started": "2022-02-08T08:01:24.121661Z"
    },
    "papermill": {
     "duration": 0.039779,
     "end_time": "2022-02-08T08:12:58.427710",
     "exception": false,
     "start_time": "2022-02-08T08:12:58.387931",
     "status": "completed"
    },
    "tags": []
   },
   "outputs": [],
   "source": [
    "## Undersampling techniques\n",
    "\n",
    "# concatenate both indices of fraud and non fraud\n",
    "under_sample_indices = np.concatenate([fraud_indices, random_normal_indexies])\n",
    "\n",
    "#extract all features from whole data for under sample indices only\n",
    "under_sample_data = fraud_df.iloc[under_sample_indices, :]\n",
    "\n",
    "# now we have to divide under sampling data to all features & target\n",
    "x_undersample_data = under_sample_data.drop(['Class'], axis=1)\n",
    "y_undersample_data = under_sample_data[['Class']]\n",
    "# now split dataset to train and test datasets as before\n",
    "X_train_sample, X_test_sample, y_train_sample, y_test_sample = train_test_split(\n",
    "x_undersample_data, y_undersample_data, test_size=0.2, random_state=0)"
   ]
  },
  {
   "cell_type": "code",
   "execution_count": 18,
   "id": "7590b139",
   "metadata": {
    "execution": {
     "iopub.execute_input": "2022-02-08T08:12:58.480423Z",
     "iopub.status.busy": "2022-02-08T08:12:58.479469Z",
     "iopub.status.idle": "2022-02-08T08:12:58.515024Z",
     "shell.execute_reply": "2022-02-08T08:12:58.515568Z",
     "shell.execute_reply.started": "2022-02-08T08:08:38.093326Z"
    },
    "papermill": {
     "duration": 0.063843,
     "end_time": "2022-02-08T08:12:58.515786",
     "exception": false,
     "start_time": "2022-02-08T08:12:58.451943",
     "status": "completed"
    },
    "tags": []
   },
   "outputs": [
    {
     "name": "stdout",
     "output_type": "stream",
     "text": [
      "Model training starts........\n",
      "Model training completed\n",
      "Accuracy of model on test dataset :- 0.9035532994923858\n",
      "Confusion Matrix :- \n",
      " [[93 13]\n",
      " [ 6 85]]\n",
      "Classification Report :- \n",
      "               precision    recall  f1-score   support\n",
      "\n",
      "           0       0.94      0.88      0.91       106\n",
      "           1       0.87      0.93      0.90        91\n",
      "\n",
      "    accuracy                           0.90       197\n",
      "   macro avg       0.90      0.91      0.90       197\n",
      "weighted avg       0.91      0.90      0.90       197\n",
      "\n"
     ]
    }
   ],
   "source": [
    "#Building decision tree\n",
    "\n",
    "def decision_tree_classification(X_train, y_train, X_test, y_test):\n",
    "    dt_classifier = DecisionTreeClassifier()\n",
    "    print(\"Model training starts........\")\n",
    "    dt_classifier.fit(X_train, y_train.values.ravel())\n",
    "    print(\"Model training completed\")\n",
    "    acc_score = dt_classifier.score(X_test, y_test)\n",
    "    print(f'Accuracy of model on test dataset :- {acc_score}')\n",
    "    y_pred = dt_classifier.predict(X_test)\n",
    "    #confusion matrix\n",
    "    print(f\"Confusion Matrix :- \\n {confusion_matrix(y_test, y_pred)}\")\n",
    "    print(f\"Classification Report :- \\n {classification_report(y_test, y_pred)}\")\n",
    "    \n",
    "decision_tree_classification(X_train_sample, y_train_sample, \n",
    "X_test_sample, y_test_sample)"
   ]
  },
  {
   "cell_type": "code",
   "execution_count": 19,
   "id": "f2f82d95",
   "metadata": {
    "execution": {
     "iopub.execute_input": "2022-02-08T08:12:58.569260Z",
     "iopub.status.busy": "2022-02-08T08:12:58.568295Z",
     "iopub.status.idle": "2022-02-08T08:12:58.774842Z",
     "shell.execute_reply": "2022-02-08T08:12:58.774193Z",
     "shell.execute_reply.started": "2022-02-08T08:09:04.482167Z"
    },
    "papermill": {
     "duration": 0.234577,
     "end_time": "2022-02-08T08:12:58.774996",
     "exception": false,
     "start_time": "2022-02-08T08:12:58.540419",
     "status": "completed"
    },
    "tags": []
   },
   "outputs": [
    {
     "name": "stdout",
     "output_type": "stream",
     "text": [
      "Model training starts........\n",
      "Accuracy of model on test dataset :- 0.9593908629441624\n",
      "Confusion Matrix :- \n",
      " [[102   4]\n",
      " [  4  87]]\n",
      "Classification Report :- \n",
      "               precision    recall  f1-score   support\n",
      "\n",
      "           0       0.96      0.96      0.96       106\n",
      "           1       0.96      0.96      0.96        91\n",
      "\n",
      "    accuracy                           0.96       197\n",
      "   macro avg       0.96      0.96      0.96       197\n",
      "weighted avg       0.96      0.96      0.96       197\n",
      "\n"
     ]
    }
   ],
   "source": [
    "#Model with randomforest\n",
    "\n",
    "def random_forest_classifier(X_train, y_train, X_test, y_test):\n",
    "    rt_classifier = RandomForestClassifier(n_estimators=50)\n",
    "    print(\"Model training starts........\")\n",
    "    rt_classifier.fit(X_train, y_train.values.ravel())\n",
    "    acc_score = rt_classifier.score(X_test, y_test)\n",
    "    print(f'Accuracy of model on test dataset :- {acc_score}')\n",
    "    y_pred = rt_classifier.predict(X_test)\n",
    "    #Confusion Matrix\n",
    "    print(f\"Confusion Matrix :- \\n {confusion_matrix(y_test, y_pred)}\")\n",
    "    print(f\"Classification Report :- \\n {classification_report(y_test, y_pred)}\")\n",
    "\n",
    "random_forest_classifier(X_train_sample, y_train_sample, X_test_sample, y_test_sample)"
   ]
  }
 ],
 "metadata": {
  "kernelspec": {
   "display_name": "Python 3",
   "language": "python",
   "name": "python3"
  },
  "language_info": {
   "codemirror_mode": {
    "name": "ipython",
    "version": 3
   },
   "file_extension": ".py",
   "mimetype": "text/x-python",
   "name": "python",
   "nbconvert_exporter": "python",
   "pygments_lexer": "ipython3",
   "version": "3.7.12"
  },
  "papermill": {
   "default_parameters": {},
   "duration": 55.26271,
   "end_time": "2022-02-08T08:12:59.713377",
   "environment_variables": {},
   "exception": null,
   "input_path": "__notebook__.ipynb",
   "output_path": "__notebook__.ipynb",
   "parameters": {},
   "start_time": "2022-02-08T08:12:04.450667",
   "version": "2.3.3"
  }
 },
 "nbformat": 4,
 "nbformat_minor": 5
}
